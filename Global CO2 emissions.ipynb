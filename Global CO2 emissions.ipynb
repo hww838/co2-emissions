{
  "cells": [
    {
      "metadata": {
        "collapsed": true
      },
      "cell_type": "markdown",
      "source": "# World Bank, CO2 emission data\n\nThis data is sourced from:\nhttp://data.worldbank.org/indicator/EN.ATM.CO2E.PC \nand \nhttp://data.worldbank.org/indicator/EN.ATM.CO2E.KT \nboth last updated 02/05/2016\n\n"
    },
    {
      "metadata": {
        "trusted": true
      },
      "cell_type": "code",
      "source": "# FUNCTION - SUMMARY, SD AND VAR:\nfunc <- function(x) c(summary(x), sd(x), var(x))\ntable1 <- function (..., useNA = 'ifany') base::table(..., useNA = useNA)",
      "execution_count": 18,
      "outputs": []
    },
    {
      "metadata": {
        "trusted": true
      },
      "cell_type": "code",
      "source": "co2 <- read.csv(\"World_Bank_CO2.csv\")",
      "execution_count": 19,
      "outputs": []
    },
    {
      "metadata": {
        "trusted": true
      },
      "cell_type": "code",
      "source": "summary(co2)",
      "execution_count": 20,
      "outputs": [
        {
          "output_type": "display_data",
          "data": {
            "text/plain": "  Country.Code           Country.Name                          Region    \n ABW    :   52   Afghanistan   :   52   East Asia & Pacific       :1872  \n AFG    :   52   Albania       :   52   Europe & Central Asia     :2963  \n AGO    :   52   Algeria       :   52   Latin America & Caribbean :2132  \n ALB    :   52   American Samoa:   52   Middle East & North Africa:1092  \n AND    :   52   Andorra       :   52   North America             : 156  \n ARE    :   52   Angola        :   52   South Asia                : 416  \n (Other):10815   (Other)       :10815   Sub-Saharan Africa        :2496  \n      Year         CO2..kt.    CO2.Per.Capita..metric.tons.\n Min.   :1960          :2095   Min.   : 0.0006             \n 1st Qu.:1973   47.671 :  58   1st Qu.: 0.3490             \n Median :1986   11.001 :  53   Median : 1.4506             \n Mean   :1986   22.002 :  46   Mean   : 4.3408             \n 3rd Qu.:1998   29.336 :  46   3rd Qu.: 5.9532             \n Max.   :2011   66.006 :  43   Max.   :99.8404             \n                (Other):8786   NA's   :2098                "
          },
          "metadata": {}
        }
      ]
    },
    {
      "metadata": {
        "trusted": true
      },
      "cell_type": "code",
      "source": "# Review the countries:\ntable1(co2$Country.Name)",
      "execution_count": 21,
      "outputs": [
        {
          "output_type": "display_data",
          "data": {
            "text/plain": "\n                   Afghanistan                        Albania \n                            52                             52 \n                       Algeria                 American Samoa \n                            52                             52 \n                       Andorra                         Angola \n                            52                             52 \n           Antigua and Barbuda                      Argentina \n                            52                             52 \n                       Armenia                          Aruba \n                            52                             52 \n                     Australia                        Austria \n                            52                             52 \n                    Azerbaijan                   Bahamas, The \n                            52                             52 \n                       Bahrain                     Bangladesh \n                            52                             52 \n                      Barbados                        Belarus \n                            52                             52 \n                       Belgium                         Belize \n                            52                             52 \n                         Benin                        Bermuda \n                            52                             52 \n                        Bhutan                        Bolivia \n                            52                             52 \n        Bosnia and Herzegovina                       Botswana \n                            52                             52 \n                        Brazil              Brunei Darussalam \n                            52                             52 \n                      Bulgaria                   Burkina Faso \n                            52                             52 \n                       Burundi                     Cabo Verde \n                            52                             52 \n                      Cambodia                       Cameroon \n                            52                             52 \n                        Canada                 Cayman Islands \n                            52                             52 \n      Central African Republic                           Chad \n                            52                             52 \n               Channel Islands                          Chile \n                            52                             52 \n                         China                       Colombia \n                            52                             52 \n                       Comoros               Congo, Dem. Rep. \n                            52                             52 \n                   Congo, Rep.                     Costa Rica \n                            52                             52 \n                 Cote d'Ivoire                        Croatia \n                            52                             52 \n                          Cuba                        Curacao \n                            52                             52 \n                        Cyprus                 Czech Republic \n                            52                             52 \n                       Denmark                       Djibouti \n                            52                             52 \n                      Dominica             Dominican Republic \n                            52                             52 \n                       Ecuador               Egypt, Arab Rep. \n                            52                             52 \n                   El Salvador              Equatorial Guinea \n                            52                             52 \n                       Eritrea                        Estonia \n                            52                             52 \n                      Ethiopia                  Faroe Islands \n                            52                             52 \n                          Fiji                        Finland \n                            52                             52 \n                        France               French Polynesia \n                            52                             52 \n                         Gabon                    Gambia, The \n                            52                             52 \n                       Georgia                        Germany \n                            52                             52 \n                         Ghana                         Greece \n                            52                             52 \n                     Greenland                        Grenada \n                            52                             52 \n                          Guam                      Guatemala \n                            52                             52 \n                        Guinea                  Guinea-Bissau \n                            52                             52 \n                        Guyana                          Haiti \n                            52                             52 \n                      Honduras           Hong Kong SAR, China \n                            52                             52 \n                       Hungary                        Iceland \n                            52                             52 \n                         India                      Indonesia \n                            52                             52 \n            Iran, Islamic Rep.                           Iraq \n                            52                             52 \n                       Ireland                    Isle of Man \n                            52                             52 \n                        Israel                          Italy \n                            52                             52 \n                       Jamaica                          Japan \n                            52                             52 \n                        Jordan                     Kazakhstan \n                            52                             52 \n                         Kenya                       Kiribati \n                            52                             52 \n  Korea, Dem. People\\x92s Rep.                    Korea, Rep. \n                            52                             52 \n                        Kosovo                         Kuwait \n                            52                             52 \n               Kyrgyz Republic                        Lao PDR \n                            52                             52 \n                        Latvia                        Lebanon \n                            52                             52 \n                       Lesotho                        Liberia \n                            52                             52 \n                         Libya                  Liechtenstein \n                            52                             52 \n                     Lithuania                     Luxembourg \n                            52                             52 \n              Macao SAR, China                 Macedonia, FYR \n                            52                             52 \n                    Madagascar                         Malawi \n                            52                             52 \n                      Malaysia                       Maldives \n                            52                             52 \n                          Mali                          Malta \n                            52                             52 \n              Marshall Islands                     Mauritania \n                            52                             52 \n                     Mauritius                         Mexico \n                            52                             52 \n         Micronesia, Fed. Sts.                        Moldova \n                            52                             52 \n                        Monaco                       Mongolia \n                            52                             52 \n                    Montenegro                        Morocco \n                            52                             52 \n                    Mozambique                        Myanmar \n                            52                             52 \n                       Namibia                          Nepal \n                            52                             52 \n                   Netherlands                  New Caledonia \n                            52                             52 \n                   New Zealand                      Nicaragua \n                            52                             52 \n                         Niger                        Nigeria \n                            52                             52 \n      Northern Mariana Islands                         Norway \n                            52                             52 \n                          Oman                       Pakistan \n                            52                             52 \n                         Palau                         Panama \n                            52                             52 \n              Papua New Guinea                       Paraguay \n                            52                             52 \n                          Peru                    Philippines \n                            52                             52 \n                        Poland                       Portugal \n                            52                             52 \n                   Puerto Rico                          Qatar \n                            52                             52 \n                       Romania             Russian Federation \n                            52                             52 \n                        Rwanda                          Samoa \n                            52                             52 \n                    San Marino          Sao Tome and Principe \n                            51                             52 \n                  Saudi Arabia                        Senegal \n                            52                             52 \n                        Serbia                     Seychelles \n                            52                             52 \n                  Sierra Leone                      Singapore \n                            52                             52 \n     Sint Maarten (Dutch part)                Slovak Republic \n                            52                             52 \n                      Slovenia                Solomon Islands \n                            52                             52 \n                       Somalia                   South Africa \n                            52                             52 \n                   South Sudan                          Spain \n                            52                             52 \n                     Sri Lanka            St. Kitts and Nevis \n                            52                             52 \n                     St. Lucia       St. Martin (French part) \n                            52                             52 \nSt. Vincent and the Grenadines                          Sudan \n                            52                             52 \n                      Suriname                      Swaziland \n                            52                             52 \n                        Sweden                    Switzerland \n                            52                             52 \n          Syrian Arab Republic                     Tajikistan \n                            52                             52 \n                      Tanzania                       Thailand \n                            52                             52 \n                   Timor-Leste                           Togo \n                            52                             52 \n                         Tonga            Trinidad and Tobago \n                            52                             52 \n                       Tunisia                         Turkey \n                            52                             52 \n                  Turkmenistan       Turks and Caicos Islands \n                            52                             52 \n                        Tuvalu                         Uganda \n                            52                             52 \n                       Ukraine           United Arab Emirates \n                            52                             52 \n                United Kingdom                  United States \n                            52                             52 \n                       Uruguay                     Uzbekistan \n                            52                             52 \n                       Vanuatu                  Venezuela, RB \n                            52                             52 \n                       Vietnam          Virgin Islands (U.S.) \n                            52                             52 \n            West Bank and Gaza                    Yemen, Rep. \n                            52                             52 \n                        Zambia                       Zimbabwe \n                            52                             52 "
          },
          "metadata": {}
        }
      ]
    },
    {
      "metadata": {
        "trusted": true
      },
      "cell_type": "code",
      "source": "# Review the regions:\ntable1(co2$Region)",
      "execution_count": 22,
      "outputs": [
        {
          "output_type": "display_data",
          "data": {
            "text/plain": "\n       East Asia & Pacific      Europe & Central Asia \n                      1872                       2963 \n Latin America & Caribbean Middle East & North Africa \n                      2132                       1092 \n             North America                 South Asia \n                       156                        416 \n        Sub-Saharan Africa \n                      2496 "
          },
          "metadata": {}
        }
      ]
    },
    {
      "metadata": {
        "trusted": true
      },
      "cell_type": "code",
      "source": "# Summarise the CO2 per capita, by region:\ntapply(co2$CO2.Per.Capita..metric.tons., co2$Region, summary)",
      "execution_count": 23,
      "outputs": [
        {
          "output_type": "display_data",
          "data": {
            "text/plain": "$`East Asia & Pacific`\n   Min. 1st Qu.  Median    Mean 3rd Qu.    Max.    NA's \n 0.0043  0.4617  1.2641  3.9654  5.2913 67.4125     368 \n\n$`Europe & Central Asia`\n   Min. 1st Qu.  Median    Mean 3rd Qu.    Max.    NA's \n 0.2936  4.6691  7.0795  7.4941  9.6612 40.5895    1135 \n\n$`Latin America & Caribbean`\n   Min. 1st Qu.  Median    Mean 3rd Qu.    Max.    NA's \n 0.0392  0.7761  1.6091  3.0804  3.5172 49.2981     321 \n\n$`Middle East & North Africa`\n    Min.  1st Qu.   Median     Mean  3rd Qu.     Max.     NA's \n 0.01807  1.18740  3.24010  9.58237  8.97992 99.84044       44 \n\n$`North America`\n   Min. 1st Qu.  Median    Mean 3rd Qu.    Max. \n  3.152   8.135  16.203  14.056  18.592  22.511 \n\n$`South Asia`\n   Min. 1st Qu.  Median    Mean 3rd Qu.    Max.    NA's \n 0.0079  0.1064  0.2756  0.4262  0.5781  2.9642      33 \n\n$`Sub-Saharan Africa`\n    Min.  1st Qu.   Median     Mean  3rd Qu.     Max.     NA's \n 0.00058  0.08467  0.18905  0.67561  0.46936 10.88381      197 \n"
          },
          "metadata": {}
        }
      ]
    },
    {
      "metadata": {
        "trusted": true
      },
      "cell_type": "code",
      "source": "# Now show this graphically:\n\ntiff(filename=\"co2_per_capita_by_region.tif\", width=1250, height=1250)\nboxplot(co2$CO2.Per.Capita..metric.tons. ~ co2$Region)\ndev.off()",
      "execution_count": 25,
      "outputs": [
        {
          "output_type": "display_data",
          "data": {
            "text/plain": "png \n  2 ",
            "text/latex": "\\textbf{png:} 2",
            "text/markdown": "**png:** 2",
            "text/html": "<strong>png:</strong> 2"
          },
          "metadata": {}
        }
      ]
    },
    {
      "metadata": {},
      "cell_type": "markdown",
      "source": "Why doesn't the TIFF file run properly?"
    },
    {
      "metadata": {
        "trusted": true
      },
      "cell_type": "code",
      "source": "png(\"co2_per_capita_by_region.png\", width=1650, height=1650)\nboxplot(co2$CO2.Per.Capita..metric.tons. ~ co2$Region,\n        ylab=\"CO2 emissions, per capita (metric tons)\", \n        xlab=\"Region\",\n        par(cex.lab=1.5), # is for y-axis\n        par(cex.axis=1.2), # x-axis\n        las=1)\ndev.off()",
      "execution_count": 30,
      "outputs": [
        {
          "output_type": "display_data",
          "data": {
            "text/plain": "png \n  2 ",
            "text/latex": "\\textbf{png:} 2",
            "text/markdown": "**png:** 2",
            "text/html": "<strong>png:</strong> 2"
          },
          "metadata": {}
        }
      ]
    },
    {
      "metadata": {
        "trusted": true
      },
      "cell_type": "code",
      "source": "",
      "execution_count": null,
      "outputs": []
    }
  ],
  "metadata": {
    "kernelspec": {
      "name": "r",
      "display_name": "R",
      "language": "R"
    },
    "language_info": {
      "mimetype": "text/x-r-source",
      "name": "R",
      "pygments_lexer": "r",
      "version": "3.5.3",
      "file_extension": ".r",
      "codemirror_mode": "r"
    }
  },
  "nbformat": 4,
  "nbformat_minor": 2
}